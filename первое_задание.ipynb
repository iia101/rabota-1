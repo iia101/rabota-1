{
  "nbformat": 4,
  "nbformat_minor": 0,
  "metadata": {
    "colab": {
      "provenance": []
    },
    "kernelspec": {
      "name": "python3",
      "display_name": "Python 3"
    },
    "language_info": {
      "name": "python"
    }
  },
  "cells": [
    {
      "cell_type": "code",
      "source": [
        "lst= [1,2,3,4,5]\n",
        "def get_min_max(lst):\n",
        "    maxi= lst[0]\n",
        "    mini= lst[0]\n",
        "    for v in lst:\n",
        "        if v > maxi:\n",
        "            maxi = v\n",
        "        if v < mini:\n",
        "            mini = v\n",
        "    return(maxi, mini)"
      ],
      "metadata": {
        "id": "uN5ctcCnHw8Y"
      },
      "execution_count": null,
      "outputs": []
    },
    {
      "cell_type": "markdown",
      "source": [],
      "metadata": {
        "id": "sW8S9BrUfyQI"
      }
    },
    {
      "cell_type": "code",
      "source": [
        "print(get_min_max(lst))"
      ],
      "metadata": {
        "colab": {
          "base_uri": "https://localhost:8080/"
        },
        "id": "AMD5jHN-6xF8",
        "outputId": "a19e53b9-bc21-4f38-b6dd-2d9e3dbb178d"
      },
      "execution_count": null,
      "outputs": [
        {
          "output_type": "stream",
          "name": "stdout",
          "text": [
            "(5, 1)\n"
          ]
        }
      ]
    },
    {
      "cell_type": "code",
      "source": [
        "#написать функцию, которая примет список и число, функция должна вернуть список всех чисел, которые больше переданного\n",
        "def filter_greater_than(numbers, threshold):\n",
        "\n",
        "    return [num for num in numbers if num > threshold]\n",
        "\n",
        "\n",
        "numbers = [234,23,42,34,5,5,432,2,342,4,2,34]\n",
        "threshold= int(input (\"переданное число \" ))\n",
        "result = filter_greater_than(numbers, threshold)\n",
        "print(result)"
      ],
      "metadata": {
        "colab": {
          "base_uri": "https://localhost:8080/"
        },
        "id": "__TQEz5o3cvY",
        "outputId": "ff5bf37e-bad7-4d45-e23a-bfb1c2208d10"
      },
      "execution_count": null,
      "outputs": [
        {
          "output_type": "stream",
          "name": "stdout",
          "text": [
            "переданное число 200\n",
            "[234, 432, 342]\n"
          ]
        }
      ]
    },
    {
      "cell_type": "code",
      "source": [
        "#Задачи на циклы\n",
        "#1)\n",
        "def find_multiples(N, K):\n",
        "    for num in range(0, N + 1):\n",
        "        if num % K == 0:\n",
        "            print(num, end=' ')\n",
        "    print()\n",
        "\n",
        "N = 100\n",
        "K = 10\n",
        "find_multiples(N, K)"
      ],
      "metadata": {
        "colab": {
          "base_uri": "https://localhost:8080/"
        },
        "id": "vKUZd8ce4dHb",
        "outputId": "6466c3d6-52e8-4609-c7d7-a49988df1490"
      },
      "execution_count": null,
      "outputs": [
        {
          "output_type": "stream",
          "name": "stdout",
          "text": [
            "0 10 20 30 40 50 60 70 80 90 100 \n"
          ]
        }
      ]
    },
    {
      "cell_type": "code",
      "source": [
        "#Задачи на циклы\n",
        "#2)\n",
        "def find_divisors(X):\n",
        "\n",
        "    divisors = []\n",
        "    for i in range(2, X):  # от 2 до X-1\n",
        "        if X % i == 0:\n",
        "            divisors.append(i)\n",
        "\n",
        "    if divisors:\n",
        "        print(\", \".join(map(str, divisors)))\n",
        "    else:\n",
        "        print(\"Простые делители отсутствуют\")\n",
        "\n",
        "X = 30\n",
        "find_divisors(X)"
      ],
      "metadata": {
        "colab": {
          "base_uri": "https://localhost:8080/"
        },
        "id": "-BPw2LWd43E9",
        "outputId": "52e0e815-6e98-442b-9485-69b5d3a4f53a"
      },
      "execution_count": null,
      "outputs": [
        {
          "output_type": "stream",
          "name": "stdout",
          "text": [
            "2, 3, 5, 6, 10, 15\n"
          ]
        }
      ]
    },
    {
      "cell_type": "code",
      "source": [
        "#Задачи на циклы\n",
        "#3)\n",
        "def power_with_loop(base, exponent):\n",
        "\n",
        "    result = 1\n",
        "    for _ in range(exponent):\n",
        "        result *= base\n",
        "    return result\n",
        "\n",
        "base = 2\n",
        "exponent = 16\n",
        "result = power_with_loop(base, exponent)\n",
        "print(f\"{base} в степени {exponent} = {result}\")\n"
      ],
      "metadata": {
        "colab": {
          "base_uri": "https://localhost:8080/"
        },
        "id": "iClGlhvc6GbV",
        "outputId": "d35c2d38-c34a-46c9-9ea1-151a43a134b9"
      },
      "execution_count": null,
      "outputs": [
        {
          "output_type": "stream",
          "name": "stdout",
          "text": [
            "2 в степени 16 = 65536\n"
          ]
        }
      ]
    },
    {
      "cell_type": "code",
      "source": [
        "#Задачи на условные конструкции\n",
        "#2)\n",
        "def calculate_loan():\n",
        "\n",
        "    try:\n",
        "\n",
        "        amount = float(input(\"Введите сумму кредита: \"))\n",
        "        months = int(input(\"Введите срок кредита в месяцах: \"))\n",
        "\n",
        "\n",
        "        if amount <= 0 or months <= 0:\n",
        "            print(\"Ошибка: сумма и срок кредита должны быть положительными числами!\")\n",
        "            return\n",
        "\n",
        "\n",
        "        if months > 12:\n",
        "            print(\"Кредит не выдается на срок более 12 месяцев!\")\n",
        "            return\n",
        "\n",
        "\n",
        "        if months <= 6:\n",
        "            overpayment_percent = 5\n",
        "        else:  # от 7 до 12 месяцев\n",
        "            overpayment_percent = 10\n",
        "\n",
        "\n",
        "        overpayment_amount = amount * overpayment_percent / 100\n",
        "        total_amount = amount + overpayment_amount\n",
        "\n",
        "\n",
        "        monthly_payment = total_amount / months\n",
        "\n",
        "        # Вывод результатов\n",
        "        print(\"\\n\" + \"=\"*40)\n",
        "        print(\"РАСЧЕТ КРЕДИТА\")\n",
        "        print(\"=\"*40)\n",
        "        print(f\"Сумма кредита: {amount:.2f} руб\")\n",
        "        print(f\"Срок кредита: {months} месяцев\")\n",
        "        print(f\"Процент переплаты: {overpayment_percent}%\")\n",
        "        print(f\"Сумма переплаты: {overpayment_amount:.2f} руб\")\n",
        "        print(f\"Общая сумма к возврату: {total_amount:.2f} руб\")\n",
        "        print(\"-\"*40)\n",
        "        print(f\"ЕЖЕМЕСЯЧНЫЙ ПЛАТЕЖ: {monthly_payment:.2f} руб\")\n",
        "        print(\"=\"*40)\n",
        "\n",
        "    except ValueError:\n",
        "        print(\"Ошибка: введите корректные числовые значения!\")\n",
        "    except Exception as e:\n",
        "        print(f\"Произошла ошибка: {e}\")\n",
        "\n",
        "# Запуск расчета\n",
        "calculate_loan()"
      ],
      "metadata": {
        "colab": {
          "base_uri": "https://localhost:8080/"
        },
        "id": "KZtMWal67ptv",
        "outputId": "a193f2a2-29ea-4a21-8362-97f1ba4b433d"
      },
      "execution_count": null,
      "outputs": [
        {
          "output_type": "stream",
          "name": "stdout",
          "text": [
            "Введите сумму кредита: 340593\n",
            "Введите срок кредита в месяцах: 10\n",
            "\n",
            "========================================\n",
            "РАСЧЕТ КРЕДИТА\n",
            "========================================\n",
            "Сумма кредита: 340593.00 руб\n",
            "Срок кредита: 10 месяцев\n",
            "Процент переплаты: 10%\n",
            "Сумма переплаты: 34059.30 руб\n",
            "Общая сумма к возврату: 374652.30 руб\n",
            "----------------------------------------\n",
            "ЕЖЕМЕСЯЧНЫЙ ПЛАТЕЖ: 37465.23 руб\n",
            "========================================\n"
          ]
        }
      ]
    }
  ]
}